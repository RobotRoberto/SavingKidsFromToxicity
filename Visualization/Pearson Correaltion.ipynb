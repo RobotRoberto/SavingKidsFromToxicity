{
 "cells": [
  {
   "cell_type": "code",
   "execution_count": 1,
   "metadata": {},
   "outputs": [],
   "source": [
    "import pandas as pd\n",
    "import numpy as np"
   ]
  },
  {
   "cell_type": "code",
   "execution_count": 2,
   "metadata": {},
   "outputs": [
    {
     "data": {
      "text/html": [
       "<div>\n",
       "<style scoped>\n",
       "    .dataframe tbody tr th:only-of-type {\n",
       "        vertical-align: middle;\n",
       "    }\n",
       "\n",
       "    .dataframe tbody tr th {\n",
       "        vertical-align: top;\n",
       "    }\n",
       "\n",
       "    .dataframe thead th {\n",
       "        text-align: right;\n",
       "    }\n",
       "</style>\n",
       "<table border=\"1\" class=\"dataframe\">\n",
       "  <thead>\n",
       "    <tr style=\"text-align: right;\">\n",
       "      <th></th>\n",
       "      <th>toxic</th>\n",
       "      <th>severe_toxic</th>\n",
       "      <th>obscene</th>\n",
       "      <th>threat</th>\n",
       "      <th>insult</th>\n",
       "      <th>identity_hate</th>\n",
       "    </tr>\n",
       "  </thead>\n",
       "  <tbody>\n",
       "    <tr>\n",
       "      <th>6</th>\n",
       "      <td>1</td>\n",
       "      <td>1</td>\n",
       "      <td>1</td>\n",
       "      <td>0</td>\n",
       "      <td>1</td>\n",
       "      <td>0</td>\n",
       "    </tr>\n",
       "    <tr>\n",
       "      <th>12</th>\n",
       "      <td>1</td>\n",
       "      <td>0</td>\n",
       "      <td>0</td>\n",
       "      <td>0</td>\n",
       "      <td>0</td>\n",
       "      <td>0</td>\n",
       "    </tr>\n",
       "    <tr>\n",
       "      <th>16</th>\n",
       "      <td>1</td>\n",
       "      <td>0</td>\n",
       "      <td>0</td>\n",
       "      <td>0</td>\n",
       "      <td>0</td>\n",
       "      <td>0</td>\n",
       "    </tr>\n",
       "    <tr>\n",
       "      <th>42</th>\n",
       "      <td>1</td>\n",
       "      <td>0</td>\n",
       "      <td>1</td>\n",
       "      <td>0</td>\n",
       "      <td>1</td>\n",
       "      <td>1</td>\n",
       "    </tr>\n",
       "    <tr>\n",
       "      <th>43</th>\n",
       "      <td>1</td>\n",
       "      <td>0</td>\n",
       "      <td>1</td>\n",
       "      <td>0</td>\n",
       "      <td>1</td>\n",
       "      <td>0</td>\n",
       "    </tr>\n",
       "  </tbody>\n",
       "</table>\n",
       "</div>"
      ],
      "text/plain": [
       "    toxic  severe_toxic  obscene  threat  insult  identity_hate\n",
       "6       1             1        1       0       1              0\n",
       "12      1             0        0       0       0              0\n",
       "16      1             0        0       0       0              0\n",
       "42      1             0        1       0       1              1\n",
       "43      1             0        1       0       1              0"
      ]
     },
     "execution_count": 2,
     "metadata": {},
     "output_type": "execute_result"
    }
   ],
   "source": [
    "df = pd.read_csv(\"../dataset/train.csv\")\n",
    "\n",
    "toxic_classifications = [\"toxic\", \"severe_toxic\", \"obscene\", \"threat\", \"insult\", \"identity_hate\"]\n",
    "classes_df = df[toxic_classifications]\n",
    "\n",
    "classes_df = classes_df[(classes_df != 0).any(1)]\n",
    "classes_df.head()"
   ]
  },
  {
   "cell_type": "code",
   "execution_count": 3,
   "metadata": {},
   "outputs": [],
   "source": [
    "from scipy import stats\n",
    "\n",
    "def print_pearson_coeff(class1, class2):\n",
    "    class1_name = class1.name\n",
    "    class2_name = class2.name\n",
    "    print(\"The Pearson Correlation for {} and {} is: {}\".format(class1_name, class2_name,\n",
    "          stats.pearsonr(class1,class2)[0]))"
   ]
  },
  {
   "cell_type": "code",
   "execution_count": 4,
   "metadata": {},
   "outputs": [
    {
     "name": "stdout",
     "output_type": "stream",
     "text": [
      "The Pearson Correlation for toxic and severe_toxic is: 0.08146526567947238\n",
      "The Pearson Correlation for toxic and obscene is: -0.020259769258270728\n",
      "The Pearson Correlation for toxic and threat is: -0.002463832256451643\n",
      "The Pearson Correlation for toxic and insult is: -0.04295691451772319\n",
      "The Pearson Correlation for toxic and identity_hate is: -0.021088831770201932\n",
      "The Pearson Correlation for severe_toxic and obscene is: 0.2844405836419848\n",
      "The Pearson Correlation for severe_toxic and threat is: 0.07958855778559785\n",
      "The Pearson Correlation for severe_toxic and insult is: 0.24713304347415696\n",
      "The Pearson Correlation for severe_toxic and identity_hate is: 0.12872516188409275\n",
      "The Pearson Correlation for obscene and threat is: 0.03800283537337642\n",
      "The Pearson Correlation for obscene and insult is: 0.5068151792877801\n",
      "The Pearson Correlation for obscene and identity_hate is: 0.13176043009559094\n",
      "The Pearson Correlation for threat and insult is: 0.05465152446362329\n",
      "The Pearson Correlation for threat and identity_hate is: 0.07336435792933024\n",
      "The Pearson Correlation for toxic and identity_hate is: -0.021088831770201932\n"
     ]
    }
   ],
   "source": [
    "print_pearson_coeff(classes_df[\"toxic\"], classes_df[\"severe_toxic\"])\n",
    "print_pearson_coeff(classes_df[\"toxic\"], classes_df[\"obscene\"])\n",
    "print_pearson_coeff(classes_df[\"toxic\"], classes_df[\"threat\"])\n",
    "print_pearson_coeff(classes_df[\"toxic\"], classes_df[\"insult\"])\n",
    "print_pearson_coeff(classes_df[\"toxic\"], classes_df[\"identity_hate\"])\n",
    "\n",
    "print_pearson_coeff(classes_df[\"severe_toxic\"], classes_df[\"obscene\"])\n",
    "print_pearson_coeff(classes_df[\"severe_toxic\"], classes_df[\"threat\"])\n",
    "print_pearson_coeff(classes_df[\"severe_toxic\"], classes_df[\"insult\"])\n",
    "print_pearson_coeff(classes_df[\"severe_toxic\"], classes_df[\"identity_hate\"])\n",
    "\n",
    "print_pearson_coeff(classes_df[\"obscene\"], classes_df[\"threat\"])\n",
    "print_pearson_coeff(classes_df[\"obscene\"], classes_df[\"insult\"])\n",
    "print_pearson_coeff(classes_df[\"obscene\"], classes_df[\"identity_hate\"])\n",
    "\n",
    "print_pearson_coeff(classes_df[\"threat\"], classes_df[\"insult\"])\n",
    "print_pearson_coeff(classes_df[\"threat\"], classes_df[\"identity_hate\"])\n",
    "\n",
    "print_pearson_coeff(classes_df[\"toxic\"], classes_df[\"identity_hate\"])"
   ]
  },
  {
   "cell_type": "code",
   "execution_count": 6,
   "metadata": {},
   "outputs": [
    {
     "data": {
      "image/png": "[encoded data removed]",
      "text/plain": [
       "<Figure size 432x288 with 1 Axes>"
      ]
     },
     "metadata": {},
     "output_type": "display_data"
    }
   ],
   "source": [
    "lens = df.comment_text.str.len()\n",
    "lens.hist();"
   ]
  }
 ],
 "metadata": {
  "kernelspec": {
   "display_name": "Python 3",
   "language": "python",
   "name": "python3"
  },
  "language_info": {
   "codemirror_mode": {
    "name": "ipython",
    "version": 3
   },
   "file_extension": ".py",
   "mimetype": "text/x-python",
   "name": "python",
   "nbconvert_exporter": "python",
   "pygments_lexer": "ipython3",
   "version": "3.6.4"
  }
 },
 "nbformat": 4,
 "nbformat_minor": 2
}
