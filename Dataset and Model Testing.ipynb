{
 "cells": [
  {
   "cell_type": "code",
   "execution_count": 1,
   "metadata": {},
   "outputs": [],
   "source": [
    "import pandas as pd\n",
    "import numpy as np\n",
    "from sklearn.feature_extraction.text import TfidfVectorizer\n",
    "from sklearn.model_selection import train_test_split, GridSearchCV, cross_val_score\n",
    "from sklearn.naive_bayes import MultinomialNB, GaussianNB, BernoulliNB\n",
    "from sklearn.linear_model import LogisticRegression\n",
    "from sklearn.pipeline import Pipeline\n",
    "from sklearn.metrics import classification_report, confusion_matrix"
   ]
  },
  {
   "cell_type": "code",
   "execution_count": 2,
   "metadata": {},
   "outputs": [],
   "source": [
    "df = pd.read_csv(\"dataset/train.csv\")\n",
    "df.head()\n",
    "\n",
    "X = df['comment_text']"
   ]
  },
  {
   "cell_type": "code",
   "execution_count": 3,
   "metadata": {},
   "outputs": [],
   "source": [
    "class_names = ['toxic', 'severe_toxic', 'obscene', 'threat', 'insult', 'identity_hate']\n",
    "\n",
    "vect = TfidfVectorizer(\n",
    "    sublinear_tf=True,\n",
    "    analyzer='char',\n",
    "    ngram_range=(1,6),\n",
    "    strip_accents='unicode',\n",
    "    binary=False,\n",
    "    stop_words={'english'},\n",
    "    max_features=60000\n",
    ")\n",
    "\n",
    "char_features = vect.fit_transform(X)"
   ]
  },
  {
   "cell_type": "code",
   "execution_count": 4,
   "metadata": {},
   "outputs": [],
   "source": [
    "char_tfidf_lr_cv_score = dict()\n",
    "for class_name in class_names:\n",
    "    label = df[class_name]\n",
    "    clf = LogisticRegression(C=4, solver='sag')\n",
    "    \n",
    "    cross_val_scores = cross_val_score(clf, char_features, label, cv=3, n_jobs=-1, scoring='roc_auc')\n",
    "    avg_cv_score = np.mean(cross_val_scores)\n",
    "    \n",
    "    char_tfidf_lr_cv_score[class_name] = {'scores': cross_val_scores, 'avg_score': avg_cv_score}"
   ]
  },
  {
   "cell_type": "code",
   "execution_count": 5,
   "metadata": {},
   "outputs": [
    {
     "name": "stdout",
     "output_type": "stream",
     "text": [
      "Accuracy for Char TfidfVectorizer => Logistic Regression model:\n",
      "The average CV score for toxic is 0.9754256481533711\n",
      "The average CV score for severe_toxic is 0.9873492063346941\n",
      "The average CV score for obscene is 0.9878080656466953\n",
      "The average CV score for threat is 0.9874788849473234\n",
      "The average CV score for insult is 0.980369286215482\n",
      "The average CV score for identity_hate is 0.9816276875363413\n"
     ]
    }
   ],
   "source": [
    "print('Accuracy for Char TfidfVectorizer => Logistic Regression model:')\n",
    "for key in char_tfidf_lr_cv_score.keys():\n",
    "    print('The average CV score for {} is {}'.format(key, char_tfidf_lr_cv_score[key]['avg_score']))"
   ]
  },
  {
   "cell_type": "code",
   "execution_count": 6,
   "metadata": {},
   "outputs": [],
   "source": [
    "word_vect = TfidfVectorizer(\n",
    "    sublinear_tf=True,\n",
    "    analyzer='word',\n",
    "    token_pattern=r'\\w{1,}',\n",
    "    ngram_range=(1,2),\n",
    "    strip_accents='ascii',\n",
    "    binary=False,\n",
    "    stop_words={'english'},\n",
    "    max_features=60000,\n",
    "    min_df=5,\n",
    "    max_df=0.8\n",
    ")\n",
    "\n",
    "word_features = word_vect.fit_transform(X)"
   ]
  },
  {
   "cell_type": "code",
   "execution_count": 7,
   "metadata": {},
   "outputs": [],
   "source": [
    "word_tfidf_lr_cv_score = dict()\n",
    "for class_name in class_names:\n",
    "    label = df[class_name]\n",
    "    clf = LogisticRegression(C=4, solver='sag')\n",
    "    \n",
    "    cross_val_scores = cross_val_score(clf, word_features, label, cv=3, n_jobs=-1, scoring='roc_auc')\n",
    "    avg_cv_score = np.mean(cross_val_scores)\n",
    "    \n",
    "    word_tfidf_lr_cv_score[class_name] = {'scores': cross_val_scores, 'avg_score': avg_cv_score}"
   ]
  },
  {
   "cell_type": "code",
   "execution_count": 8,
   "metadata": {},
   "outputs": [
    {
     "name": "stdout",
     "output_type": "stream",
     "text": [
      "Accuracy for Word TfidfVectorizer => Logistic Regression model:\n",
      "The average CV score for toxic is 0.9729955423180443\n",
      "The average CV score for severe_toxic is 0.9849428734325918\n",
      "The average CV score for obscene is 0.9846870113496786\n",
      "The average CV score for threat is 0.988220900430969\n",
      "The average CV score for insult is 0.9781798862665024\n",
      "The average CV score for identity_hate is 0.9744560490604087\n"
     ]
    }
   ],
   "source": [
    "print('Accuracy for Word TfidfVectorizer => Logistic Regression model:')\n",
    "for key in word_tfidf_lr_cv_score.keys():\n",
    "    print('The average CV score for {} is {}'.format(key, word_tfidf_lr_cv_score[key]['avg_score']))"
   ]
  },
  {
   "cell_type": "code",
   "execution_count": 9,
   "metadata": {},
   "outputs": [],
   "source": [
    "char_tfidf_multinomNB_cv_score = dict()\n",
    "for class_name in class_names:\n",
    "    label = df[class_name]\n",
    "    clf = MultinomialNB()\n",
    "    \n",
    "    cross_val_scores = cross_val_score(clf, char_features, label, cv=3, n_jobs=-1, scoring='roc_auc')\n",
    "    avg_cv_score = np.mean(cross_val_scores)\n",
    "    \n",
    "    char_tfidf_multinomNB_cv_score[class_name] = {'scores': cross_val_scores, 'avg_score': avg_cv_score}"
   ]
  },
  {
   "cell_type": "code",
   "execution_count": 10,
   "metadata": {},
   "outputs": [
    {
     "name": "stdout",
     "output_type": "stream",
     "text": [
      "Accuracy for Char TfidfVectorizer => Multinomial Naive Bayes model:\n",
      "The average CV score for toxic is 0.9469668327475107\n",
      "The average CV score for severe_toxic is 0.9668873121325303\n",
      "The average CV score for obscene is 0.9579034731671313\n",
      "The average CV score for threat is 0.8751377419340619\n",
      "The average CV score for insult is 0.9579588607108812\n",
      "The average CV score for identity_hate is 0.9176980189378297\n"
     ]
    }
   ],
   "source": [
    "print('Accuracy for Char TfidfVectorizer => Multinomial Naive Bayes model:')\n",
    "for key in char_tfidf_multinomNB_cv_score.keys():\n",
    "    print('The average CV score for {} is {}'.format(key, char_tfidf_multinomNB_cv_score[key]['avg_score']))"
   ]
  },
  {
   "cell_type": "code",
   "execution_count": 11,
   "metadata": {},
   "outputs": [],
   "source": [
    "word_tfidf_multinomNB_cv_score = dict()\n",
    "for class_name in class_names:\n",
    "    label = df[class_name]\n",
    "    clf = MultinomialNB()\n",
    "    \n",
    "    cross_val_scores = cross_val_score(clf, word_features, label, cv=3, n_jobs=-1, scoring='roc_auc')\n",
    "    avg_cv_score = np.mean(cross_val_scores)\n",
    "    \n",
    "    word_tfidf_multinomNB_cv_score[class_name] = {'scores': cross_val_scores, 'avg_score': avg_cv_score}"
   ]
  },
  {
   "cell_type": "code",
   "execution_count": 12,
   "metadata": {},
   "outputs": [
    {
     "name": "stdout",
     "output_type": "stream",
     "text": [
      "Accuracy for Word TfidfVectorizer => Multinomial Naive Bayes model:\n",
      "The average CV score for toxic is 0.9451445091173203\n",
      "The average CV score for severe_toxic is 0.9270879922622292\n",
      "The average CV score for obscene is 0.9393252448901995\n",
      "The average CV score for threat is 0.8204057527445183\n",
      "The average CV score for insult is 0.936402306481306\n",
      "The average CV score for identity_hate is 0.8483597897476142\n"
     ]
    }
   ],
   "source": [
    "print('Accuracy for Word TfidfVectorizer => Multinomial Naive Bayes model:')\n",
    "for key in word_tfidf_multinomNB_cv_score.keys():\n",
    "    print('The average CV score for {} is {}'.format(key, word_tfidf_multinomNB_cv_score[key]['avg_score']))"
   ]
  }
 ],
 "metadata": {
  "kernelspec": {
   "display_name": "Python 3",
   "language": "python",
   "name": "python3"
  },
  "language_info": {
   "codemirror_mode": {
    "name": "ipython",
    "version": 3
   },
   "file_extension": ".py",
   "mimetype": "text/x-python",
   "name": "python",
   "nbconvert_exporter": "python",
   "pygments_lexer": "ipython3",
   "version": "3.6.4"
  }
 },
 "nbformat": 4,
 "nbformat_minor": 2
}
